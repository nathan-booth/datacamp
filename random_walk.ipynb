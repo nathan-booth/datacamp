{
 "cells": [
  {
   "cell_type": "markdown",
   "metadata": {},
   "source": [
    "# Hacker Statistics\n",
    "## Purpose\n",
    "Use simulations to solve a problem involving randomness.\n",
    "\n",
    "## Problem Narrative\n",
    "Take a Random Walk up the Empire State Building. Use a 6-sided die to generate random moves. Rolls of 1 or 2 take you down one step. Rolls 3, 4, and 5 move you up one step. A roll of 6 gives you another roll and you always go up by that amount. Should you bet that you reach stair 60 of the Empire State Building?\n",
    "\n",
    "## Problem Specification\n",
    "\n",
    "## Background Knowledge\n",
    "Randomly generated numbers are pseudo-random because they can be reproduced from the same seed. This is a necessary tradeoff to ensure exact reproducability.\n",
    "\n",
    "A random walk has many applications in modeling real world behavior:\n",
    "* the path of a molecule through a liquid or gas\n",
    "* a gambler's financial status"
   ]
  },
  {
   "cell_type": "code",
   "execution_count": 1,
   "metadata": {},
   "outputs": [],
   "source": [
    "import numpy as np\n",
    "import pandas as pd"
   ]
  },
  {
   "cell_type": "markdown",
   "metadata": {},
   "source": [
    "## Generating Random Numbers"
   ]
  },
  {
   "cell_type": "code",
   "execution_count": 2,
   "metadata": {},
   "outputs": [],
   "source": [
    "np.random.seed(123)"
   ]
  },
  {
   "cell_type": "code",
   "execution_count": 6,
   "metadata": {},
   "outputs": [
    {
     "data": {
      "text/plain": [
       "0.5513147690828912"
      ]
     },
     "execution_count": 6,
     "metadata": {},
     "output_type": "execute_result"
    }
   ],
   "source": [
    "# random float between 0 and 1\n",
    "np.random.rand()"
   ]
  },
  {
   "cell_type": "code",
   "execution_count": 7,
   "metadata": {},
   "outputs": [
    {
     "data": {
      "text/plain": [
       "4"
      ]
     },
     "execution_count": 7,
     "metadata": {},
     "output_type": "execute_result"
    }
   ],
   "source": [
    "# random dice roll\n",
    "np.random.randint(1,7)"
   ]
  },
  {
   "cell_type": "markdown",
   "metadata": {},
   "source": [
    "## Simple Framework"
   ]
  },
  {
   "cell_type": "code",
   "execution_count": 17,
   "metadata": {},
   "outputs": [],
   "source": [
    "# starting step\n",
    "step = 50"
   ]
  },
  {
   "cell_type": "code",
   "execution_count": 27,
   "metadata": {},
   "outputs": [
    {
     "name": "stdout",
     "output_type": "stream",
     "text": [
      "3 54\n"
     ]
    }
   ],
   "source": [
    "dice = np.random.randint(1,7)\n",
    "\n",
    "if dice <= 2 :\n",
    "    step -= 1\n",
    "elif dice in [3, 4, 5]:\n",
    "    step += 1\n",
    "else:\n",
    "    step += np.random.randint(1,7)\n",
    "\n",
    "print(dice, step)"
   ]
  }
 ],
 "metadata": {
  "kernelspec": {
   "display_name": "Python [default]",
   "language": "python",
   "name": "python3"
  },
  "language_info": {
   "codemirror_mode": {
    "name": "ipython",
    "version": 3
   },
   "file_extension": ".py",
   "mimetype": "text/x-python",
   "name": "python",
   "nbconvert_exporter": "python",
   "pygments_lexer": "ipython3",
   "version": "3.5.5"
  }
 },
 "nbformat": 4,
 "nbformat_minor": 2
}
