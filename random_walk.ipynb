{
 "cells": [
  {
   "cell_type": "markdown",
   "metadata": {},
   "source": [
    "# Hacker Statistics\n",
    "## Purpose\n",
    "Use simulations to solve a problem involving randomness.\n",
    "\n",
    "## Problem Narrative\n",
    "Take a Random Walk up the Empire State Building. Use a 6-sided die to generate random moves. Rolls of 1 or 2 take you down one step. Rolls 3, 4, and 5 move you up one step. A roll of 6 gives you another roll and you always go up by that amount. Should you bet that you reach stair 60 of the Empire State Building if you start at the floor and have 100 rolls?\n",
    "\n",
    "## Problem Specification\n",
    "\n",
    "## Background Knowledge\n",
    "Randomly generated numbers are pseudo-random because they can be reproduced from the same seed. This is a necessary tradeoff to ensure exact reproducability.\n",
    "\n",
    "A random walk has many applications in modeling real world behavior:\n",
    "* the path of a molecule through a liquid or gas\n",
    "* a gambler's financial status"
   ]
  },
  {
   "cell_type": "code",
   "execution_count": 30,
   "metadata": {},
   "outputs": [],
   "source": [
    "import numpy as np\n",
    "import pandas as pd"
   ]
  },
  {
   "cell_type": "markdown",
   "metadata": {},
   "source": [
    "## Generating Random Numbers"
   ]
  },
  {
   "cell_type": "code",
   "execution_count": 31,
   "metadata": {},
   "outputs": [],
   "source": [
    "np.random.seed(123)"
   ]
  },
  {
   "cell_type": "code",
   "execution_count": 32,
   "metadata": {},
   "outputs": [
    {
     "data": {
      "text/plain": [
       "0.6964691855978616"
      ]
     },
     "execution_count": 32,
     "metadata": {},
     "output_type": "execute_result"
    }
   ],
   "source": [
    "# random float between 0 and 1\n",
    "np.random.rand()"
   ]
  },
  {
   "cell_type": "code",
   "execution_count": 33,
   "metadata": {},
   "outputs": [
    {
     "data": {
      "text/plain": [
       "3"
      ]
     },
     "execution_count": 33,
     "metadata": {},
     "output_type": "execute_result"
    }
   ],
   "source": [
    "# random dice roll\n",
    "np.random.randint(1,7)"
   ]
  },
  {
   "cell_type": "markdown",
   "metadata": {},
   "source": [
    "## Simple Framework"
   ]
  },
  {
   "cell_type": "code",
   "execution_count": 34,
   "metadata": {},
   "outputs": [],
   "source": [
    "# starting step\n",
    "step = 50"
   ]
  },
  {
   "cell_type": "code",
   "execution_count": 35,
   "metadata": {},
   "outputs": [
    {
     "name": "stdout",
     "output_type": "stream",
     "text": [
      "5 51\n"
     ]
    }
   ],
   "source": [
    "# dice roll\n",
    "dice = np.random.randint(1,7)\n",
    "\n",
    "# next step\n",
    "if dice <= 2 :\n",
    "    step -= 1\n",
    "elif dice in [3, 4, 5]:\n",
    "    step += 1\n",
    "else:\n",
    "    step += np.random.randint(1,7)\n",
    "\n",
    "print(dice, step)"
   ]
  },
  {
   "cell_type": "markdown",
   "metadata": {},
   "source": [
    "## Random Walk"
   ]
  },
  {
   "cell_type": "code",
   "execution_count": 40,
   "metadata": {},
   "outputs": [
    {
     "name": "stdout",
     "output_type": "stream",
     "text": [
      "[0, 1, 0, -1, 0, 4, 5, 6, 7, 8, 7, 6, 5, 4, 3, 4, 5, 6, 7, 8, 9, 8, 9, 10, 9, 10, 11, 14, 13, 14, 13, 14, 17, 18, 19, 20, 19, 18, 21, 22, 23, 24, 23, 22, 23, 26, 27, 32, 33, 32, 33, 32, 33, 32, 38, 37, 36, 37, 39, 38, 37, 36, 37, 38, 39, 40, 44, 49, 50, 51, 52, 55, 56, 57, 58, 59, 60, 61, 60, 59, 60, 61, 60, 66, 65, 66, 67, 66, 65, 66, 65, 64, 70, 69, 68, 69, 70, 69, 68, 67, 66]\n"
     ]
    }
   ],
   "source": [
    "# step history\n",
    "random_walk = [0]\n",
    "\n",
    "for x in range(100):\n",
    "    # use last position\n",
    "    step = random_walk[-1]\n",
    "    \n",
    "    dice = np.random.randint(1,7)\n",
    "    \n",
    "    if dice <= 2:\n",
    "        step = step - 1\n",
    "    elif dice <= 5:\n",
    "        step = step + 1\n",
    "    else:\n",
    "        step = step + np.random.randint(1,7)\n",
    "\n",
    "    # add next step to random_walk\n",
    "    random_walk.append(step)\n",
    "\n",
    "print(random_walk)"
   ]
  },
  {
   "cell_type": "code",
   "execution_count": null,
   "metadata": {},
   "outputs": [],
   "source": []
  }
 ],
 "metadata": {
  "kernelspec": {
   "display_name": "Python [default]",
   "language": "python",
   "name": "python3"
  },
  "language_info": {
   "codemirror_mode": {
    "name": "ipython",
    "version": 3
   },
   "file_extension": ".py",
   "mimetype": "text/x-python",
   "name": "python",
   "nbconvert_exporter": "python",
   "pygments_lexer": "ipython3",
   "version": "3.5.5"
  }
 },
 "nbformat": 4,
 "nbformat_minor": 2
}
